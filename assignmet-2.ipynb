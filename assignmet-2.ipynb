{
 "cells": [
  {
   "cell_type": "code",
   "execution_count": null,
   "metadata": {},
   "outputs": [
    {
     "name": "stdout",
     "output_type": "stream",
     "text": [
      "    1     \n",
      "   1 1    \n",
      "  1 2 1   \n",
      " 1 3 3 1  \n",
      "1 4 6 4 1 \n"
     ]
    }
   ],
   "source": [
    "# assignment-2 que.1\n",
    "\n",
    "def pascals_triangle(rows):\n",
    "    for i in range(rows):\n",
    "        row = [1]  # First element is always 1\n",
    "        if i > 0:\n",
    "            for j in range(1, i):\n",
    "                row.append(prev_row[j - 1] + prev_row[j])  # Sum of two above elements\n",
    "            row.append(1)  # Last element is always 1\n",
    "        print(\" \".join(map(str, row)).center(rows * 2))  # Format for better alignment\n",
    "        prev_row = row  # Store current row as previous row for next iteration\n",
    "\n",
    "# Example usage:\n",
    "pascals_triangle(5)\n"
   ]
  },
  {
   "cell_type": "code",
   "execution_count": null,
   "metadata": {},
   "outputs": [],
   "source": [
    "# assignment-2 que.2\n",
    "\n",
    "Explanation of continue Statement in a Loop\n",
    "The continue statement in Python is used within loops (like for and while) to skip the current iteration and move to the next one.\n",
    "When the continue statement is encountered, the remaining code inside the loop for that iteration is ignored, and the loop proceeds \n",
    "with the next iteration.\n",
    "\n",
    "When is Continue Beneficial?\n",
    "Using Continue is beneficial when:\n",
    "\n",
    "Skipping Certain Iterations: If specific values or conditions should be ignored while processing a loop, continue helps avoid unnecessary logic.\n",
    "Reducing Nested Conditions: Instead of wrapping logic inside multiple if statements, continue allows for cleaner, more readable code by \n",
    "skipping the unwanted cases immediately.\n",
    "Improving Readability: It makes the intent clear—certain cases are ignored, and the rest of the loop continues as expected."
   ]
  },
  {
   "cell_type": "code",
   "execution_count": null,
   "metadata": {},
   "outputs": [
    {
     "name": "stdout",
     "output_type": "stream",
     "text": [
      "12\n",
      "15\n",
      "33\n",
      "45\n",
      "60\n"
     ]
    }
   ],
   "source": [
    "#assignmet2 que.2\n",
    "\n",
    "# List of numbers\n",
    "numbers = [10, 12, 15, 22, 33, 40, 45, 50, 60]\n",
    "\n",
    "# Iterating through the list\n",
    "for num in numbers:\n",
    "    # If the number is not divisible by 3, skip it\n",
    "    if num % 3 != 0:\n",
    "        continue  # Skip this iteration\n",
    "\n",
    "    # Print the number if divisible by 3\n",
    "    print(num)\n"
   ]
  },
  {
   "cell_type": "code",
   "execution_count": null,
   "metadata": {},
   "outputs": [
    {
     "name": "stdout",
     "output_type": "stream",
     "text": [
      "[(3, 4, 5), (5, 12, 13), (6, 8, 10), (7, 24, 25), (8, 15, 17), (9, 12, 15), (9, 40, 41), (10, 24, 26), (12, 16, 20), (12, 35, 37), (14, 48, 50), (15, 20, 25), (15, 36, 39), (16, 30, 34), (18, 24, 30), (20, 21, 29), (21, 28, 35), (24, 32, 40), (27, 36, 45), (30, 40, 50)]\n"
     ]
    }
   ],
   "source": [
    "# assignment-2 que.3\n",
    "\n",
    "# List comprehension to generate Pythagorean triplets\n",
    "pythagorean_triplets = [(a,b,c) \n",
    "        for a in range(1, 51) \n",
    "        for b in range(a, 51) \n",
    "        for c in range(b, 51) \n",
    "    if a**2 + b**2 == c**2]\n",
    "\n",
    "# Print the generated triplets\n",
    "print(pythagorean_triplets)\n"
   ]
  },
  {
   "cell_type": "code",
   "execution_count": null,
   "metadata": {},
   "outputs": [
    {
     "name": "stdout",
     "output_type": "stream",
     "text": [
      "9\n"
     ]
    }
   ],
   "source": [
    "# assignment-2 que.4\n",
    "\n",
    "def max_consecutive_sum(nums, k):\n",
    "    if len(nums) < k or k <= 0:\n",
    "        return None  # Return None if k is invalid\n",
    "\n",
    "    # Compute the sum of the first window of size k\n",
    "    max_sum = current_sum = sum(nums[:k])\n",
    "\n",
    "    # Slide the window through the list\n",
    "    for i in range(k, len(nums)):\n",
    "        current_sum += nums[i] - nums[i - k]  # Update the window sum\n",
    "        max_sum = max(max_sum, current_sum)   # Track the max sum\n",
    "\n",
    "    return max_sum\n",
    "\n",
    "# Example usage\n",
    "nums = [2, 1, 5, 1, 3, 2]\n",
    "k = 3\n",
    "print(max_consecutive_sum(nums, k))  \n"
   ]
  },
  {
   "cell_type": "code",
   "execution_count": 8,
   "metadata": {},
   "outputs": [
    {
     "name": "stdout",
     "output_type": "stream",
     "text": [
      "Before function call: [1, 2, 3]\n",
      "Inside function: [1, 2, 3, 4]\n",
      "After function call: [1, 2, 3, 4]\n"
     ]
    }
   ],
   "source": [
    "# Assignment que.5\n",
    "\n",
    "def modify_list(lst, item):\n",
    "    \"\"\"Appends an item to the given list.\"\"\"\n",
    "    lst.append(item)\n",
    "    print(\"Inside function:\", lst)  # Check the modified list inside the function\n",
    "\n",
    "# Example usage\n",
    "my_list = [1, 2, 3]\n",
    "print(\"Before function call:\", my_list)\n",
    "\n",
    "modify_list(my_list, 4)\n",
    "\n",
    "print(\"After function call:\", my_list)  # The change persists outside the function\n"
   ]
  }
 ],
 "metadata": {
  "kernelspec": {
   "display_name": "base",
   "language": "python",
   "name": "python3"
  },
  "language_info": {
   "codemirror_mode": {
    "name": "ipython",
    "version": 3
   },
   "file_extension": ".py",
   "mimetype": "text/x-python",
   "name": "python",
   "nbconvert_exporter": "python",
   "pygments_lexer": "ipython3",
   "version": "3.12.7"
  }
 },
 "nbformat": 4,
 "nbformat_minor": 2
}
