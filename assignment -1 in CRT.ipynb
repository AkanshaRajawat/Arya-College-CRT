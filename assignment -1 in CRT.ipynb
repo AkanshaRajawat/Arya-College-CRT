{
 "cells": [
  {
   "cell_type": "code",
   "execution_count": 4,
   "metadata": {},
   "outputs": [
    {
     "name": "stdout",
     "output_type": "stream",
     "text": [
      "[10, 2, 3, 4]\n"
     ]
    }
   ],
   "source": [
    "#assignment-1 que.1\n",
    "\n",
    "#. Mutability\n",
    "#Lists are mutable, meaning their elements can be modified, added, or removed after creation\n",
    "\n",
    "my_list = [1, 2, 3]\n",
    "my_list[0] = 10  # Modifying an element\n",
    "my_list.append(4)  # Adding an element\n",
    "print(my_list)  \n"
   ]
  },
  {
   "cell_type": "code",
   "execution_count": null,
   "metadata": {},
   "outputs": [],
   "source": [
    "2. Performance\n",
    "Tuples are faster than lists in terms of iteration and access speed because they are immutable and require less memory.\n",
    "Lists, being mutable, consume more memory and are slightly slower due to dynamic resizing and additional operations like appending.\n",
    "When to Choose One Over the Other?\n",
    "✅ Use a List When:\n",
    "\n",
    "You need to modify the collection (add, remove, or change elements).\n",
    "Order and indexing are important, and elements may change over time.\n",
    "You need a dynamic data structure.\n",
    "✅ Use a Tuple When:\n",
    "\n",
    "You want to ensure data integrity (e.g., representing fixed configurations like database credentials).\n",
    "You need better performance, especially when working with large datasets.\n",
    "The data should remain constant throughout the program."
   ]
  },
  {
   "cell_type": "code",
   "execution_count": null,
   "metadata": {},
   "outputs": [],
   "source": [
    "#assignmet-1 que.2\n",
    "\n",
    "Type Conversion in Python\n",
    "Python supports two types of type conversion:\n",
    "\n",
    "Implicit Type Conversion (Automatic)\n",
    "Explicit Type Conversion (Type Casting)\n",
    "1. Implicit Type Conversion (Automatic)\n",
    "Python automatically converts data types when there is no risk of data loss.\n",
    "\n",
    "Example: Integer to Float\n",
    "        Boolean to Integer"
   ]
  },
  {
   "cell_type": "code",
   "execution_count": null,
   "metadata": {},
   "outputs": [
    {
     "name": "stdout",
     "output_type": "stream",
     "text": [
      "15.5\n",
      "<class 'float'>\n"
     ]
    }
   ],
   "source": [
    "#integer to float\n",
    "\n",
    "num_int = 5      # Integer\n",
    "num_float = 10.5 # Float\n",
    "result = num_int + num_float  # Python converts int to float automatically\n",
    "print(result)  # Output: 15.5\n",
    "print(type(result)) "
   ]
  },
  {
   "cell_type": "code",
   "execution_count": null,
   "metadata": {},
   "outputs": [
    {
     "name": "stdout",
     "output_type": "stream",
     "text": [
      "6\n"
     ]
    }
   ],
   "source": [
    "#Boolean to integer\n",
    "\n",
    "val = True + 5  # True is treated as 1\n",
    "print(val)  "
   ]
  },
  {
   "cell_type": "code",
   "execution_count": null,
   "metadata": {},
   "outputs": [],
   "source": [
    "2. Explicit Type Conversion (Type Casting)\n",
    "When Python does not automatically convert types, we use built-in functions like:\n",
    "int()\n",
    "float()\n",
    "str()\n",
    "list()\n",
    "tuple()\n",
    "dict()\n",
    "Example: string to Integer\n",
    "        float to Integer\n",
    "        string to list\n",
    "        list to string "
   ]
  },
  {
   "cell_type": "code",
   "execution_count": null,
   "metadata": {},
   "outputs": [
    {
     "name": "stdout",
     "output_type": "stream",
     "text": [
      "105\n"
     ]
    }
   ],
   "source": [
    "#string to Integer\n",
    "\n",
    "num_str = \"100\"\n",
    "num_int = int(num_str)  # Explicit conversion from string to int\n",
    "print(num_int + 5)  "
   ]
  },
  {
   "cell_type": "code",
   "execution_count": 8,
   "metadata": {},
   "outputs": [
    {
     "name": "stdout",
     "output_type": "stream",
     "text": [
      "10\n"
     ]
    }
   ],
   "source": [
    "#float to Integer\n",
    "\n",
    "num_float = 10.75\n",
    "num_int = int(num_float)  # Converts float to int (truncates decimal part)\n",
    "print(num_int)  "
   ]
  },
  {
   "cell_type": "code",
   "execution_count": 9,
   "metadata": {},
   "outputs": [
    {
     "name": "stdout",
     "output_type": "stream",
     "text": [
      "['h', 'e', 'l', 'l', 'o']\n"
     ]
    }
   ],
   "source": [
    "#string to list\n",
    "\n",
    "text = \"hello\"\n",
    "text_list = list(text)  # Converts string to list of characters\n",
    "print(text_list)  \n"
   ]
  },
  {
   "cell_type": "code",
   "execution_count": 10,
   "metadata": {},
   "outputs": [
    {
     "name": "stdout",
     "output_type": "stream",
     "text": [
      "Python is fun\n"
     ]
    }
   ],
   "source": [
    "#list to String \n",
    "\n",
    "words = ['Python', 'is', 'fun']\n",
    "sentence = \" \".join(words)  # Joins list elements into a single string\n",
    "print(sentence)  "
   ]
  },
  {
   "cell_type": "code",
   "execution_count": 11,
   "metadata": {},
   "outputs": [
    {
     "name": "stdout",
     "output_type": "stream",
     "text": [
      "15\n"
     ]
    }
   ],
   "source": [
    "#assignment-1 que.3\n",
    "\n",
    "num = 5  # Initial value\n",
    "num += 10  # Equivalent to num = num + 10\n",
    "print(num)  "
   ]
  }
 ],
 "metadata": {
  "kernelspec": {
   "display_name": "base",
   "language": "python",
   "name": "python3"
  },
  "language_info": {
   "codemirror_mode": {
    "name": "ipython",
    "version": 3
   },
   "file_extension": ".py",
   "mimetype": "text/x-python",
   "name": "python",
   "nbconvert_exporter": "python",
   "pygments_lexer": "ipython3",
   "version": "3.12.7"
  }
 },
 "nbformat": 4,
 "nbformat_minor": 2
}
